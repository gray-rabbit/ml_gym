{
 "cells": [
  {
   "cell_type": "markdown",
   "metadata": {},
   "source": [
    "### opencv 영상을 처리하고 싶다면\n",
    "<img src=\"https://opencv.org/wp-content/uploads/2022/05/logo.png\" width=\"50px\">\n",
    "\n",
    "실시간 컴퓨터 비전을 목적으로 한 프로그래밍 라이브러리이다. 원래는 인텔이 개발하였다. 실시간 이미지 프로세싱에 중점을 둔 라이브러리이다. 인텔 CPU에서 사용되는 경우 속도의 향상을 볼 수 있는 IPP(Intel Performance Primitives)를 지원한다. 이 라이브러리는 윈도우, 리눅스 등에서 사용 가능한 크로스 플랫폼이며 오픈소스 BSD 허가서 하에서 무료로 사용할 수 있다. OpenCV는 TensorFlow, Torch / PyTorch 및 Caffe의 딥러닝 프레임워크를 지원한다."
   ]
  },
  {
   "cell_type": "code",
   "execution_count": null,
   "metadata": {},
   "outputs": [],
   "source": [
    "#설치가 조금 까다로울 수 있음\n",
    "%pip install opencv-python"
   ]
  },
  {
   "cell_type": "code",
   "execution_count": null,
   "metadata": {},
   "outputs": [],
   "source": [
    "#import에서 opencv가 아닌 cv2로 명명되어 있음. 가끔. cv로 약어를 만드는 소스도 있음\n",
    "import cv2 "
   ]
  },
  {
   "cell_type": "code",
   "execution_count": null,
   "metadata": {},
   "outputs": [],
   "source": [
    "# 이미지를 다운로드 해야합니다. \n",
    "# lenna png로 검색합시다.\n",
    "# https://lenna.org 에서 lenna에 대한 설명을 볼 수 있습니다. "
   ]
  },
  {
   "cell_type": "code",
   "execution_count": null,
   "metadata": {},
   "outputs": [],
   "source": [
    "#이미지 읽기\n",
    "img = cv2.imread(\"lenna.png\") #윈도우에서는 대소문자 구별을 안한다.\n",
    "cv2.imwrite(\"lenna_copy.png\",img)"
   ]
  },
  {
   "cell_type": "code",
   "execution_count": null,
   "metadata": {},
   "outputs": [],
   "source": [
    "#랜덤을 이용하여 이미지를 생성해 봅시다. \n",
    "import numpy as np\n",
    "raw_bytes = np.random.randint(0,255, (400*300*3),dtype=np.uint8)\n",
    "img = raw_bytes.reshape(400,300,3) #가로 세로 비율을 생각합시다...\n",
    "cv2.imwrite(\"random.png\",img)\n"
   ]
  },
  {
   "cell_type": "code",
   "execution_count": null,
   "metadata": {},
   "outputs": [],
   "source": [
    "#이미지를 출력해 봅시다. \n",
    "cv2.imshow(\"test\", img) #타이틀과 이미지 데이터로 이루어짐\n",
    "cv2.waitKey()\n",
    "cv2.destroyAllWindows()"
   ]
  },
  {
   "cell_type": "code",
   "execution_count": null,
   "metadata": {},
   "outputs": [],
   "source": [
    "img[:100,:100] = (255,0,0) #r???\n",
    "img[100:200,100:200] = (0,255,0) #g???\n",
    "img[200:300,200:300] = (0,0,255) #b???\n",
    "cv2.imshow(\"test\", img) #타이틀과 이미지 데이터로 이루어짐\n",
    "cv2.waitKey()\n",
    "cv2.destroyAllWindows() #bgr의 형태로 나온다.\n",
    "\n"
   ]
  },
  {
   "cell_type": "code",
   "execution_count": null,
   "metadata": {},
   "outputs": [],
   "source": [
    "#색공간 변환\n",
    "img = cv2.imread(\"Lenna.png\")\n",
    "img_gray = cv2.cvtColor(img, cv2.COLOR_BGR2GRAY)\n",
    "img_rgb = cv2.cvtColor(img,cv2.COLOR_BGR2RGB)\n",
    "cv2.imshow(\"origin\", img)\n",
    "cv2.imshow(\"gray\", img_gray)\n",
    "cv2.imshow(\"RGB\", img_rgb)\n",
    "cv2.waitKey()\n",
    "cv2.destroyAllWindows()\n"
   ]
  },
  {
   "cell_type": "code",
   "execution_count": null,
   "metadata": {},
   "outputs": [],
   "source": [
    "#트랙바 이용\n",
    "img = cv2.imread(\"Lenna.png\")\n",
    "\n",
    "cv2.namedWindow(\"TWindow\")\n",
    "cv2.createTrackbar(\"trackValue\", \"TWindow\", 0, 255*3, lambda x:x)\n",
    "cv2.createTrackbar(\"trackValue2\", \"TWindow\", 0, 255*3, lambda x:x)\n",
    "\n",
    "\n",
    "key = cv2.waitKey()\n",
    "value = cv2.getTrackbarPos(\"trackValue\" ,\"TWindow\")\n",
    "value2 = cv2.getTrackbarPos(\"trackValue2\" ,\"TWindow\")\n",
    "print(value, value2)\n",
    "\n",
    "cv2.destroyAllWindows()"
   ]
  },
  {
   "cell_type": "code",
   "execution_count": null,
   "metadata": {},
   "outputs": [],
   "source": [
    "# 크기조절!!!\n",
    "img = cv2.imread(\"Lenna.png\")\n",
    "img_resize= cv2.resize(img, dsize=(200,200), interpolation=cv2.INTER_LINEAR)\n",
    "img_resize2= cv2.resize(img, dsize=(0,0), fx=.3, fy=.7,  interpolation=cv2.INTER_LINEAR)\n",
    "img_resize3= cv2.resize(img, dsize=(1024,1024), interpolation=cv2.INTER_CUBIC)\n",
    "\n",
    "cv2.imshow(\"origin\", img)\n",
    "cv2.imshow(\"resize\", img_resize)\n",
    "cv2.imshow(\"resize2\", img_resize2)\n",
    "cv2.imshow(\"resize2\", img_resize3)\n",
    "cv2.waitKey()\n",
    "cv2.destroyAllWindows()\n"
   ]
  },
  {
   "cell_type": "code",
   "execution_count": null,
   "metadata": {},
   "outputs": [],
   "source": [
    "#크기 조절과 트랙바 조합\n",
    "img = cv2.imread(\"Lenna.png\")\n",
    "\n",
    "cv2.namedWindow(\"TWindow\")\n",
    "cv2.createTrackbar(\"trackValue\", \"TWindow\", 0, 255*3, lambda x:x)\n",
    "cv2.createTrackbar(\"trackValue2\", \"TWindow\", 0, 255*3, lambda x:x)\n",
    "\n",
    "\n",
    "while True:\n",
    "    value = cv2.getTrackbarPos(\"trackValue\" ,\"TWindow\")\n",
    "    value2 = cv2.getTrackbarPos(\"trackValue2\" ,\"TWindow\")\n",
    "    resize = cv2.resize(img, (value+1,value2+1),interpolation=cv2.INTER_LINEAR)\n",
    "    cv2.imshow(\"origin\",img)\n",
    "    cv2.imshow(\"resize\",resize)\n",
    "    key = cv2.waitKey(1)\n",
    "    if key == ord('q'):\n",
    "        break\n",
    "cv2.destroyAllWindows()"
   ]
  },
  {
   "cell_type": "code",
   "execution_count": null,
   "metadata": {},
   "outputs": [],
   "source": [
    "#외각선 검출\n",
    "img = cv2.imread(\"Lenna.png\")\n",
    "\n",
    "cv2.namedWindow(\"TWindow\")\n",
    "cv2.createTrackbar(\"trackValue\", \"TWindow\", 0, 255*3, lambda x:x)\n",
    "cv2.createTrackbar(\"trackValue2\", \"TWindow\", 0, 255*3, lambda x:x)\n",
    "\n",
    "\n",
    "while True:\n",
    "    value = cv2.getTrackbarPos(\"trackValue\" ,\"TWindow\")\n",
    "    value2 = cv2.getTrackbarPos(\"trackValue2\" ,\"TWindow\")\n",
    "    resize = cv2.resize(img, (value+1,value2+1),interpolation=cv2.INTER_LINEAR)\n",
    "    img_canny = cv2.Canny(img, value,value2)\n",
    "    cv2.imshow('edge',img_canny)\n",
    "    cv2.imshow(\"origin\",img)\n",
    "    cv2.imshow(\"resize\",resize)\n",
    "    key = cv2.waitKey(1)\n",
    "    if key == ord('q'):\n",
    "        break\n",
    "cv2.destroyAllWindows()\n"
   ]
  },
  {
   "cell_type": "code",
   "execution_count": null,
   "metadata": {},
   "outputs": [],
   "source": [
    "#캠을 이용한 캡쳐\n",
    "cam = cv2.VideoCapture(0)\n",
    "size = (cam.get(cv2.CAP_PROP_FRAME_HEIGHT),\n",
    "        cam.get(cv2.CAP_PROP_FRAME_WIDTH))\n",
    "print(size)\n",
    "success, frame = cam.read()\n",
    "cv2.imshow(\"cam\",frame)\n",
    "cv2.waitKey()\n",
    "cam.release()\n",
    "cv2.destroyAllWindows()\n"
   ]
  },
  {
   "cell_type": "code",
   "execution_count": null,
   "metadata": {},
   "outputs": [],
   "source": [
    "#캠 사이즈 조절\n",
    "cam = cv2.VideoCapture(0)\n",
    "cam.set(cv2.CAP_PROP_FRAME_HEIGHT,1080)\n",
    "cam.set(cv2.CAP_PROP_FRAME_WIDTH,1920)\n",
    "print(size)\n",
    "success, frame = cam.read()\n",
    "cv2.imshow(\"cam\",frame)\n",
    "cv2.waitKey()\n",
    "cam.release()\n",
    "cv2.destroyAllWindows()\n"
   ]
  },
  {
   "cell_type": "code",
   "execution_count": null,
   "metadata": {},
   "outputs": [],
   "source": [
    "#키보드 입력 구조\n",
    "cam = cv2.VideoCapture(0)\n",
    "idx_r, idx_l = 0, 0\n",
    "while True:\n",
    "    success, frame = cam.read()\n",
    "    if success!=True:\n",
    "        print(\"cam read error!\")\n",
    "        break\n",
    "    cv2.imshow(\"cam\",frame)\n",
    "    key = cv2.waitKey(1)\n",
    "    if key == ord(\"1\"):\n",
    "        break\n",
    "    elif key == ord(\"2\"):\n",
    "        cv2.imwrite(f\"capture/left_{idx_l}.png\", frame)\n",
    "        idx_l +=1\n",
    "    elif key == ord(\"3\"):\n",
    "        cv2.imwrite(f\"capture/right_{idx_r}.png\", frame)\n",
    "        idx_r +=1\n",
    "cam.release()\n",
    "cv2.destroyAllWindows()\n"
   ]
  },
  {
   "cell_type": "code",
   "execution_count": null,
   "metadata": {},
   "outputs": [],
   "source": [
    "#이진화\n",
    "img = cv2.imread(\"Lenna.png\")\n",
    "img_gray = cv2.cvtColor(img, cv2.COLOR_BGR2GRAY)\n",
    "#이미지와, 임계값, 임계값 이상일 때의 값, 임계값 타입을 넣을 수 있다.\n",
    "ret, dst = cv2.threshold(img_gray, 100, 255, cv2.THRESH_BINARY)\n",
    "blur = cv2.GaussianBlur(img_gray, (5,5),0)\n",
    "ret, otsu = cv2.threshold(blur, 0,255, cv2.THRESH_OTSU)\n",
    "canny  = cv2.Canny(otsu,200,360)\n",
    "cv2.imshow(\"dst\", dst)\n",
    "cv2.imshow(\"otsu\", otsu)\n",
    "cv2.imshow(\"canny\", canny)\n",
    "cv2.waitKey()\n",
    "cv2.destroyAllWindows()\n"
   ]
  },
  {
   "cell_type": "code",
   "execution_count": null,
   "metadata": {},
   "outputs": [],
   "source": [
    "## 간단한 도형 그리기\n",
    "img = cv2.imread(\"Lenna.png\")\n",
    "cv2.line(img, (0,0),(300,300),(0,0,255),2)\n",
    "cv2.circle(img,(150,150),10,(255,0,0),-1)\n",
    "cv2.rectangle(img, (150,150),(200,200),(0,255,0),-1)\n",
    "cv2.putText(img, \"test \", (20,50),cv2.FONT_HERSHEY_SIMPLEX,1,(255,0,0),5)\n",
    "cv2.imshow(\"img\", img)\n",
    "cv2.waitKey()\n",
    "cv2.destroyAllWindows()"
   ]
  },
  {
   "cell_type": "code",
   "execution_count": null,
   "metadata": {},
   "outputs": [],
   "source": [
    "#contour\n",
    "img = cv2.imread(\"abc.png\")\n",
    "img_gray = cv2.cvtColor(img, cv2.COLOR_BGR2GRAY)\n",
    "#이미지와, 임계값, 임계값 이상일 때의 값, 임계값 타입을 넣을 수 있다.\n",
    "ret, dst = cv2.threshold(img_gray, 100, 255, cv2.THRESH_BINARY)\n",
    "ret, otsu = cv2.threshold(blur, 0,255, cv2.THRESH_OTSU)\n",
    "canny  = cv2.Canny(otsu,200,360)\n",
    "contours, hierarchy = cv2.findContours(canny, cv2.RETR_LIST, cv2.CHAIN_APPROX_SIMPLE)\n",
    "\n",
    "for area in contours:\n",
    "    cv2.drawContours(img, [area], 0, (255, 0, 0), 5)  # blue\n",
    "\n",
    "cv2.imshow(\"otsu\", img)\n",
    "cv2.imshow(\"canny\", canny)\n",
    "cv2.waitKey()\n",
    "cv2.destroyAllWindows()\n"
   ]
  },
  {
   "cell_type": "code",
   "execution_count": null,
   "metadata": {},
   "outputs": [],
   "source": [
    "#캠을 사용한 테스트\n",
    "\n",
    "import cv2\n",
    "\n",
    "cv2.namedWindow(\"TWindow\")\n",
    "cv2.createTrackbar(\"value1\", \"TWindow\", 0,255,lambda x:x)\n",
    "cv2.createTrackbar(\"value2\", \"TWindow\", 0,255,lambda x:x)\n",
    "cam = cv2.VideoCapture(0)\n",
    "while True:\n",
    "    state, img = cam.read()\n",
    "    key = cv2.waitKey(1)\n",
    "    img_gray = cv2.cvtColor(img, cv2.COLOR_BGR2GRAY)\n",
    "    img_gray = cv2.blur(img_gray, (3,3),0)\n",
    "    # ret, img_gray = cv2.threshold(img_gray, 0,255, cv2.THRESH_OTSU)\n",
    "    value1 = cv2.getTrackbarPos(\"value1\", \"TWindow\")\n",
    "    value2 = cv2.getTrackbarPos(\"value2\", \"TWindow\")\n",
    "    print(value1, value2)\n",
    "    img_gray = cv2.Canny(img_gray, value1, value2)\n",
    "    cv2.imshow(\"image\", img_gray)\n",
    "    if key == ord('q'):\n",
    "        break\n",
    "cam.release()\n",
    "cv2.destroyAllWindows()"
   ]
  },
  {
   "cell_type": "code",
   "execution_count": 138,
   "metadata": {},
   "outputs": [
    {
     "data": {
      "text/plain": [
       "[<matplotlib.lines.Line2D at 0x1b7af1bbfd0>,\n",
       " <matplotlib.lines.Line2D at 0x1b7af1c8070>]"
      ]
     },
     "execution_count": 138,
     "metadata": {},
     "output_type": "execute_result"
    },
    {
     "data": {
      "image/png": "[encoded data removed]",
      "text/plain": [
       "<Figure size 432x288 with 1 Axes>"
      ]
     },
     "metadata": {
      "needs_background": "light"
     },
     "output_type": "display_data"
    }
   ],
   "source": [
    "import matplotlib.pyplot as plt\n",
    "\n",
    "x = np.arange(-5,5,.1)\n",
    "y = x**2\n",
    "xx1 = -2\n",
    "yy1 = xx1**2\n",
    "xx2 = xx1+1.e-5\n",
    "yy2 = xx2**2\n",
    "w = (yy1-yy2)/(xx1-xx2)\n",
    "b=yy1-w*xx1\n",
    "\n",
    "tempx = np.arange(xx1-1,xx1+1,0.1)\n",
    "plt.plot(x,y,tempx,w*tempx+b, \"r\")"
   ]
  },
  {
   "cell_type": "code",
   "execution_count": null,
   "metadata": {},
   "outputs": [],
   "source": [
    "def softmax(a):\n",
    "    c = np.max(a)\n",
    "    exp_a = np.exp(a - c)  # Prevent an overflow\n",
    "    sum_exp_a = np.sum(exp_a)\n",
    "    y = exp_a / sum_exp_a\n",
    "    return y\n"
   ]
  }
 ],
 "metadata": {
  "kernelspec": {
   "display_name": "Python 3.9.13 ('ml_gym': venv)",
   "language": "python",
   "name": "python3"
  },
  "language_info": {
   "codemirror_mode": {
    "name": "ipython",
    "version": 3
   },
   "file_extension": ".py",
   "mimetype": "text/x-python",
   "name": "python",
   "nbconvert_exporter": "python",
   "pygments_lexer": "ipython3",
   "version": "3.9.13"
  },
  "orig_nbformat": 4,
  "vscode": {
   "interpreter": {
    "hash": "a6ac081869b530f457619791f617d77cf805282e7db014faab8a21ecdc256c9d"
   }
  }
 },
 "nbformat": 4,
 "nbformat_minor": 2
}
