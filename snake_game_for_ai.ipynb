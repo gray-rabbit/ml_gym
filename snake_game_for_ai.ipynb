{
 "cells": [
  {
   "cell_type": "code",
   "execution_count": 1,
   "metadata": {},
   "outputs": [
    {
     "name": "stdout",
     "output_type": "stream",
     "text": [
      "pygame 2.1.2 (SDL 2.0.18, Python 3.9.13)\n",
      "Hello from the pygame community. https://www.pygame.org/contribute.html\n"
     ]
    }
   ],
   "source": [
    "import pygame\n",
    "from enum import Enum\n",
    "import random "
   ]
  },
  {
   "cell_type": "code",
   "execution_count": 2,
   "metadata": {},
   "outputs": [
    {
     "data": {
      "text/plain": [
       "(5, 0)"
      ]
     },
     "execution_count": 2,
     "metadata": {},
     "output_type": "execute_result"
    }
   ],
   "source": [
    "pygame.init()"
   ]
  },
  {
   "cell_type": "code",
   "execution_count": 3,
   "metadata": {},
   "outputs": [],
   "source": [
    "class Direction(Enum):\n",
    "    LEFT = 0\n",
    "    UP = 1\n",
    "    RIGHT = 2\n",
    "    DOWN = 3"
   ]
  },
  {
   "cell_type": "code",
   "execution_count": 4,
   "metadata": {},
   "outputs": [],
   "source": [
    "WHITE = (255, 255, 255)\n",
    "RED = (200,0,0)\n",
    "BLUE1 = (0, 0, 255)\n",
    "BLUE2 = (0, 100, 255)\n",
    "BLACK = (0,0,0)\n",
    "\n",
    "BLOCK_SIZE = 20\n",
    "SPEED = 20"
   ]
  },
  {
   "cell_type": "code",
   "execution_count": 64,
   "metadata": {},
   "outputs": [],
   "source": [
    "class SnakeGame:\n",
    "    def __init__(self, w=640, h=480, size=40):\n",
    "        self.w = w\n",
    "        self.h = h\n",
    "        self.display = pygame.display.set_mode((self.w, self.h))\n",
    "        self.clock = pygame.time.Clock()\n",
    "        self.clock.tick(200)\n",
    "        self.size = size\n",
    "        self.reset()\n",
    "\n",
    "    def reset(self):\n",
    "        self.head = (self.w//self.size//2, self.h//self.size//2)\n",
    "        self.snake = [self.head]\n",
    "\n",
    "        self.r_direction_index = 2\n",
    "        self.direction = Direction(self.r_direction_index)\n",
    "        self.game_over = False\n",
    "        self.score = 0\n",
    "        self._place_food()\n",
    "        self._update_ui()\n",
    "\n",
    "    def _place_food(self):\n",
    "        while True:\n",
    "            x = random.randint(0, (self.w//self.size)-1)\n",
    "            y = random.randint(0, (self.h//self.size)-1)\n",
    "            if (x, y) not in self.snake:\n",
    "                self.food = (x, y)\n",
    "                break\n",
    "\n",
    "    def _update_ui(self):\n",
    "        self.display.fill(BLACK)\n",
    "        for x in range(self.w//self.size):\n",
    "            for y in range(self.h//self.size):\n",
    "                pygame.draw.rect(self.display, (23, 23, 23), pygame.Rect(\n",
    "                    x*self.size, y*self.size, self.size, self.size), 1)\n",
    "        for i, (w, h) in enumerate(self.snake):\n",
    "            if i == 0:\n",
    "                pygame.draw.rect(self.display, BLUE1, pygame.Rect(\n",
    "                    w*self.size, h*self.size, self.size, self.size))\n",
    "                pygame.draw.rect(self.display, BLUE1, pygame.Rect(\n",
    "                    w*self.size, h*self.size, self.size, self.size), 1)\n",
    "            else:\n",
    "                pygame.draw.rect(self.display, BLUE2, pygame.Rect(\n",
    "                    w*self.size, h*self.size, self.size, self.size))\n",
    "                pygame.draw.rect(self.display, BLUE2, pygame.Rect(\n",
    "                    w*self.size, h*self.size, self.size, self.size), 1)\n",
    "            pass\n",
    "\n",
    "        pygame.draw.rect(self.display, RED, pygame.Rect(\n",
    "            self.food[0]*self.size, self.food[1]*self.size, self.size, self.size))\n",
    "        pygame.display.flip()\n",
    "\n",
    "    def step(self, action=-1):\n",
    "        self.reward = 0\n",
    "        if action != -1:\n",
    "            if action == 0:  # 왼쪽\n",
    "                self.r_direction_index -= 1\n",
    "            elif action == 2:  # 오른쪽\n",
    "                self.r_direction_index += 1\n",
    "            self.r_direction_index %= 4\n",
    "            self.direction = Direction(self.r_direction_index)\n",
    "            if self.game_over is False:\n",
    "                self._move(self.direction)\n",
    "\n",
    "        for event in pygame.event.get():\n",
    "            if event.type == pygame.QUIT:\n",
    "                pygame.quit()\n",
    "            if event.type == pygame.KEYDOWN:\n",
    "                if event.key == pygame.K_LEFT:\n",
    "                    self.r_direction_index -= 1\n",
    "                elif event.key == pygame.K_RIGHT:\n",
    "                    self.r_direction_index += 1\n",
    "                # elif event.key == pygame.K_UP:\n",
    "                #     self.direction = Direction.UP\n",
    "                # elif event.key == pygame.K_DOWN:\n",
    "                #     self.direction = Direction.DOWN\n",
    "\n",
    "                self.r_direction_index %= 4\n",
    "                self.direction = Direction(self.r_direction_index)\n",
    "\n",
    "                if self.game_over is False:\n",
    "                    self._move(self.direction)\n",
    "\n",
    "        # ui 업데이트\n",
    "        self._update_ui()\n",
    "        return (self.direction, self.snake[0], (self.food[0], self.food[1])), self.reward, self.game_over\n",
    "\n",
    "    def _move(self, direcion):\n",
    "        x, y = 0, 0\n",
    "        if direcion == Direction.RIGHT:\n",
    "            x = 1\n",
    "        elif direcion == Direction.LEFT:\n",
    "            x = -1\n",
    "        elif direcion == Direction.UP:\n",
    "            y = -1\n",
    "        elif direcion == Direction.DOWN:\n",
    "            y = 1\n",
    "        last = self.snake[-1]\n",
    "        head = self.snake[0]\n",
    "\n",
    "        self.snake.insert(0, (head[0]+x, head[1]+y))\n",
    "\n",
    "        is_eat_apple = self._hit_apple()\n",
    "        is_hit_obstacle = self._hit_obstacles()\n",
    "\n",
    "        # 장애물이랑 부딪치면?\n",
    "        if is_hit_obstacle:\n",
    "            self.reward = -10\n",
    "            self.game_over = True\n",
    "\n",
    "        # 사과를 먹으면?\n",
    "        if is_eat_apple:\n",
    "            self.reward = 10\n",
    "            self._place_food()\n",
    "        else:\n",
    "            self.snake.pop()\n",
    "\n",
    "    def _hit_obstacles(self):\n",
    "        if self.snake[0][0] < 0\\\n",
    "                or self.snake[0][0] > (self.w//self.size-1)\\\n",
    "                or self.snake[0][1] < 0\\\n",
    "                or self.snake[0][1] > (self.h//self.size-1)\\\n",
    "                or self.snake[0] in self.snake[1:]:\n",
    "            return True\n",
    "        return False\n",
    "\n",
    "    def _hit_apple(self):\n",
    "        if (self.food[0], self.food[1]) == self.snake[0]:\n",
    "            return True\n",
    "        else:\n",
    "            False\n",
    "\n",
    "    def quit(self):\n",
    "        pygame.quit()"
   ]
  },
  {
   "cell_type": "code",
   "execution_count": 68,
   "metadata": {},
   "outputs": [
    {
     "name": "stdout",
     "output_type": "stream",
     "text": [
      "(1, 3)\n"
     ]
    }
   ],
   "source": [
    "env = SnakeGame()"
   ]
  },
  {
   "cell_type": "code",
   "execution_count": 71,
   "metadata": {},
   "outputs": [
    {
     "ename": "ValueError",
     "evalue": "The truth value of an array with more than one element is ambiguous. Use a.any() or a.all()",
     "output_type": "error",
     "traceback": [
      "\u001b[1;31m---------------------------------------------------------------------------\u001b[0m",
      "\u001b[1;31mValueError\u001b[0m                                Traceback (most recent call last)",
      "\u001b[1;32mf:\\python_workspace\\ml_gym\\snake_game_for_ai.ipynb 셀 7\u001b[0m in \u001b[0;36m<cell line: 4>\u001b[1;34m()\u001b[0m\n\u001b[0;32m      <a href='vscode-notebook-cell:/f%3A/python_workspace/ml_gym/snake_game_for_ai.ipynb#ch0000009?line=0'>1</a>\u001b[0m \u001b[39mimport\u001b[39;00m \u001b[39mnumpy\u001b[39;00m \u001b[39mas\u001b[39;00m \u001b[39mnp\u001b[39;00m\n\u001b[0;32m      <a href='vscode-notebook-cell:/f%3A/python_workspace/ml_gym/snake_game_for_ai.ipynb#ch0000009?line=1'>2</a>\u001b[0m a \u001b[39m=\u001b[39m np\u001b[39m.\u001b[39marray([\u001b[39m0\u001b[39m,\u001b[39m1\u001b[39m,\u001b[39m0\u001b[39m])\n\u001b[1;32m----> <a href='vscode-notebook-cell:/f%3A/python_workspace/ml_gym/snake_game_for_ai.ipynb#ch0000009?line=3'>4</a>\u001b[0m (d,b,c), reward, done \u001b[39m=\u001b[39m env\u001b[39m.\u001b[39;49mstep(a)\n",
      "\u001b[1;32mf:\\python_workspace\\ml_gym\\snake_game_for_ai.ipynb 셀 7\u001b[0m in \u001b[0;36mSnakeGame.step\u001b[1;34m(self, action)\u001b[0m\n\u001b[0;32m     <a href='vscode-notebook-cell:/f%3A/python_workspace/ml_gym/snake_game_for_ai.ipynb#ch0000009?line=54'>55</a>\u001b[0m \u001b[39mdef\u001b[39;00m \u001b[39mstep\u001b[39m(\u001b[39mself\u001b[39m, action\u001b[39m=\u001b[39m\u001b[39m-\u001b[39m\u001b[39m1\u001b[39m):\n\u001b[1;32m---> <a href='vscode-notebook-cell:/f%3A/python_workspace/ml_gym/snake_game_for_ai.ipynb#ch0000009?line=55'>56</a>\u001b[0m     \u001b[39mif\u001b[39;00m action \u001b[39m!=\u001b[39;49m \u001b[39m-\u001b[39;49m\u001b[39m1\u001b[39;49m:\n\u001b[0;32m     <a href='vscode-notebook-cell:/f%3A/python_workspace/ml_gym/snake_game_for_ai.ipynb#ch0000009?line=56'>57</a>\u001b[0m         \u001b[39mif\u001b[39;00m action \u001b[39m==\u001b[39m \u001b[39m0\u001b[39m:  \u001b[39m# 왼쪽\u001b[39;00m\n\u001b[0;32m     <a href='vscode-notebook-cell:/f%3A/python_workspace/ml_gym/snake_game_for_ai.ipynb#ch0000009?line=57'>58</a>\u001b[0m             \u001b[39mself\u001b[39m\u001b[39m.\u001b[39mr_direction_index \u001b[39m-\u001b[39m\u001b[39m=\u001b[39m \u001b[39m1\u001b[39m\n",
      "\u001b[1;31mValueError\u001b[0m: The truth value of an array with more than one element is ambiguous. Use a.any() or a.all()"
     ]
    }
   ],
   "source": [
    "import numpy as np\n",
    "a = np.array([0,1,0])\n",
    "\n",
    "(d,b,c), reward, done = env.step(a)\n"
   ]
  },
  {
   "cell_type": "code",
   "execution_count": 78,
   "metadata": {},
   "outputs": [
    {
     "data": {
      "text/plain": [
       "((<Direction.RIGHT: 2>, (15, 6), (1, 3)), 0, True)"
      ]
     },
     "execution_count": 78,
     "metadata": {},
     "output_type": "execute_result"
    },
    {
     "ename": "",
     "evalue": "",
     "output_type": "error",
     "traceback": [
      "\u001b[1;31m현재 셀 또는 이전 셀에서 코드를 실행하는 동안 Kernel이 충돌했습니다. 셀의 코드를 검토하여 오류의 가능한 원인을 식별하세요. 자세한 내용을 보려면 <a href='https://aka.ms/vscodeJupyterKernelCrash'> 여기 </a> 를 클릭하세요. 자세한 내용은 Jupyter <a href='command:jupyter.viewOutput'>로그</a>를 참조하세요."
     ]
    }
   ],
   "source": [
    "a = np.array([0,1,0])\n",
    "\n",
    "(d,b,c), reward, done = env.step(np.argmax(a))\n",
    "(d,b,c), reward, done "
   ]
  },
  {
   "cell_type": "code",
   "execution_count": null,
   "metadata": {},
   "outputs": [],
   "source": []
  },
  {
   "cell_type": "code",
   "execution_count": null,
   "metadata": {},
   "outputs": [],
   "source": []
  },
  {
   "cell_type": "code",
   "execution_count": null,
   "metadata": {},
   "outputs": [],
   "source": []
  },
  {
   "cell_type": "code",
   "execution_count": null,
   "metadata": {},
   "outputs": [],
   "source": []
  },
  {
   "cell_type": "code",
   "execution_count": null,
   "metadata": {},
   "outputs": [],
   "source": []
  },
  {
   "cell_type": "code",
   "execution_count": null,
   "metadata": {},
   "outputs": [],
   "source": []
  },
  {
   "cell_type": "code",
   "execution_count": null,
   "metadata": {},
   "outputs": [],
   "source": []
  }
 ],
 "metadata": {
  "kernelspec": {
   "display_name": "Python 3.9.13 ('ml_gym': venv)",
   "language": "python",
   "name": "python3"
  },
  "language_info": {
   "codemirror_mode": {
    "name": "ipython",
    "version": 3
   },
   "file_extension": ".py",
   "mimetype": "text/x-python",
   "name": "python",
   "nbconvert_exporter": "python",
   "pygments_lexer": "ipython3",
   "version": "3.9.13"
  },
  "orig_nbformat": 4,
  "vscode": {
   "interpreter": {
    "hash": "a6ac081869b530f457619791f617d77cf805282e7db014faab8a21ecdc256c9d"
   }
  }
 },
 "nbformat": 4,
 "nbformat_minor": 2
}
