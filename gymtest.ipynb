{
 "cells": [
  {
   "cell_type": "code",
   "execution_count": null,
   "metadata": {},
   "outputs": [],
   "source": [
    "import gym\n",
    "import numpy as np\n",
    "import random as pr"
   ]
  },
  {
   "cell_type": "code",
   "execution_count": 45,
   "metadata": {},
   "outputs": [],
   "source": [
    "env = gym.make(\"FrozenLake-v1\", is_slippery=False)\n",
    "Q = np.zeros((16,4))\n"
   ]
  },
  {
   "cell_type": "code",
   "execution_count": 59,
   "metadata": {},
   "outputs": [
    {
     "name": "stdout",
     "output_type": "stream",
     "text": [
      "[0.      0.59049 0.      0.     ],[0. 0. 0. 0.],[0.    0.729 0.    0.   ],[0. 0. 0. 0.],\n",
      "[0.     0.6561 0.     0.    ],[0. 0. 0. 0.],[0.   0.81 0.   0.  ],[0. 0. 0. 0.],\n",
      "[0.    0.    0.729 0.   ],[0.   0.81 0.   0.  ],[0.  0.9 0.  0. ],[0. 0. 0. 0.],\n",
      "[0. 0. 0. 0.],[0.  0.  0.9 0. ],[0. 0. 1. 0.],[0. 0. 0. 0.],\n"
     ]
    }
   ],
   "source": [
    "limit_episode = 100000\n",
    "Q = np.zeros((16,4))\n",
    "def get_action(vector):\n",
    "    m = np.max(vector)\n",
    "    dice = np.where(vector==m)[0]\n",
    "    return  pr.choice(dice)\n",
    "reward_list=[]\n",
    "    \n",
    "for i in range(limit_episode):\n",
    "    game_over = False\n",
    "    state = env.reset()\n",
    "    all_reward = 0\n",
    "\n",
    "    while not game_over:\n",
    "        action = np.argmax(Q[state,:]+np.random.randn(1,env.action_space.n)/(i+1))\n",
    "        new_state, reward, game_over, _ = env.step(action)\n",
    "        if new_state==state:\n",
    "            continue\n",
    "        Q[state, action] = reward + .9*np.max(Q[new_state])\n",
    "        # Q[state,action] = reward*1.0 + np.max(Q[new_state,])\n",
    "        state = new_state \n",
    "        all_reward+=reward\n",
    "    reward_list.append(all_reward)\n",
    "for i in range(4):\n",
    "    for j in range(4):\n",
    "        print(Q[i*4+j,:],end=\",\")\n",
    "    print()\n"
   ]
  },
  {
   "cell_type": "code",
   "execution_count": 41,
   "metadata": {},
   "outputs": [
    {
     "data": {
      "text/plain": [
       "<BarContainer object of 1000 artists>"
      ]
     },
     "execution_count": 41,
     "metadata": {},
     "output_type": "execute_result"
    },
    {
     "data": {
      "image/png": "[encoded data removed]",
      "text/plain": [
       "<Figure size 432x288 with 1 Axes>"
      ]
     },
     "metadata": {
      "needs_background": "light"
     },
     "output_type": "display_data"
    }
   ],
   "source": [
    "import matplotlib.pyplot as plt\n",
    "\n",
    "plt.bar(np.arange(limit_episode),reward_list)\n",
    "\n",
    "# state = env.reset()\n",
    "# while True:\n",
    "#     env.render()\n",
    "#     action = rargmax(Q[state])\n",
    "#     new_state, reward, done, _ = env.step(action)\n",
    "#     state = new_state\n",
    "#     if done:\n",
    "#         env.render()\n",
    "#         break\n",
    "#         env.close()\n",
    "#     state = new_state\n",
    "# env.close()"
   ]
  },
  {
   "cell_type": "code",
   "execution_count": null,
   "metadata": {},
   "outputs": [],
   "source": []
  },
  {
   "cell_type": "code",
   "execution_count": null,
   "metadata": {},
   "outputs": [],
   "source": []
  }
 ],
 "metadata": {
  "kernelspec": {
   "display_name": "Python 3.9.13 64-bit (windows store)",
   "language": "python",
   "name": "python3"
  },
  "language_info": {
   "codemirror_mode": {
    "name": "ipython",
    "version": 3
   },
   "file_extension": ".py",
   "mimetype": "text/x-python",
   "name": "python",
   "nbconvert_exporter": "python",
   "pygments_lexer": "ipython3",
   "version": "3.9.13"
  },
  "orig_nbformat": 4,
  "vscode": {
   "interpreter": {
    "hash": "3b1d11a3c36c6fc38730c0bbac2bbc1481b61daf269debc03c94e1fe6d695095"
   }
  }
 },
 "nbformat": 4,
 "nbformat_minor": 2
}
