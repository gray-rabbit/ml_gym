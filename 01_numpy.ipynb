{
 "cells": [
  {
   "cell_type": "markdown",
   "metadata": {},
   "source": [
    "### numpy 파이썬의 구세주!\n",
    "\n",
    "[넘파이홈페이지](https://numpy.org/) \n",
    "<img src=\"https://numpy.org/images/logo.svg\" width=\"50px\">\n",
    "\n",
    "연산을 위한 기초 패키지로, 배열의 빠른 작업을 제공해주는 파이썬 라이브러리\n",
    "\n"
   ]
  },
  {
   "cell_type": "code",
   "execution_count": null,
   "metadata": {},
   "outputs": [],
   "source": [
    "#주피터 노트에서의 쉘 명령\n",
    "# %를 붙여주세요. 터미널에서는 빼 주세요~ \n",
    "\n",
    "%pip install numpy\n",
    "# !pip install numpy\n"
   ]
  },
  {
   "cell_type": "code",
   "execution_count": null,
   "metadata": {},
   "outputs": [],
   "source": [
    "import numpy as np\n",
    "# 넘파이 vs 파이썬 리스트 속도비교\n",
    "nparray = np.arange(1000000)\n",
    "pylist = list(range(1000000))\n",
    "\n",
    "%time for _ in range(10): np_array2 = nparray*2\n",
    "%time for _ in range(10): pylist2 = [x*2 for x in pylist]"
   ]
  },
  {
   "cell_type": "code",
   "execution_count": null,
   "metadata": {},
   "outputs": [],
   "source": [
    "import numpy as np # numpy는 일반적으로 np로 축약해서 사용\n",
    "\n",
    "a = np.arange(15)\n",
    "%pinfo a\n",
    "#타입은 ndarray (n차원의 배열)"
   ]
  },
  {
   "cell_type": "code",
   "execution_count": null,
   "metadata": {},
   "outputs": [],
   "source": [
    "a = a.reshape(3,5)\n",
    "print(a)\n",
    "print(type(a))\n",
    "a.ndim, a.shape,a.size, a.dtype, a.dtype.name, a.itemsize, a.data"
   ]
  },
  {
   "cell_type": "code",
   "execution_count": 29,
   "metadata": {},
   "outputs": [
    {
     "data": {
      "text/plain": [
       "(array([2, 3, 4]), array([2, 3, 4]))"
      ]
     },
     "execution_count": 29,
     "metadata": {},
     "output_type": "execute_result"
    }
   ],
   "source": [
    "#np array 생성\n",
    "# 파이썬 리스트(튜플)사용\n",
    "a = np.array([2,3,4])\n",
    "b = np.array((2,3,4))\n",
    "a,b"
   ]
  },
  {
   "cell_type": "code",
   "execution_count": 35,
   "metadata": {},
   "outputs": [
    {
     "data": {
      "text/plain": [
       "(array([[1, 2, 3],\n",
       "       [4, 5, 6]]), array([[1, 2, 3],\n",
       "       [4, 5, 6]]), (2, 3), (2, 3))"
      ]
     },
     "execution_count": 35,
     "metadata": {},
     "output_type": "execute_result"
    }
   ],
   "source": [
    "# n개의 축을 생성하는 경우\n",
    "a = np.array(([1,2,3],[4,5,6]))\n",
    "b = np.array(((1,2,3),(4,5,6)))\n",
    "a, b, a.shape, b.shape"
   ]
  },
  {
   "cell_type": "code",
   "execution_count": 39,
   "metadata": {},
   "outputs": [
    {
     "data": {
      "text/plain": [
       "(array([1. , 2. , 3.5]), array(['1', '2.5', '파이썬'], dtype='<U32'))"
      ]
     },
     "execution_count": 39,
     "metadata": {},
     "output_type": "execute_result"
    }
   ],
   "source": [
    "# 다만 인수는 모든 타입이 동일해야 한다!\n",
    "a = np.array((1, 2, 3.5))\n",
    "b = np.array((1,2.5, \"파이썬\"))\n",
    "a, b"
   ]
  },
  {
   "cell_type": "code",
   "execution_count": 50,
   "metadata": {},
   "outputs": [
    {
     "data": {
      "text/plain": [
       "(array([[1., 2., 3.],\n",
       "       [4., 5., 6.]], dtype=float32), array([[1., 2., 3.],\n",
       "       [4., 5., 6.]]), array(0.+1.2j), dtype('float64'), dtype('complex128'))"
      ]
     },
     "execution_count": 50,
     "metadata": {},
     "output_type": "execute_result"
    }
   ],
   "source": [
    "# 데이터 타입을 명시해서 생성\n",
    "a = np.array(((1,2,3),(4,5,6)), dtype=np.float32)\n",
    "b = np.array(((1,2,3,),(4,5,6.,))) #단일 타입이어야 함. 따라서 모든 원소를 포함할 수 있는 타입으로 자동 캐스팅\n",
    "c = np.array((1.2j))\n",
    "a, b, c, b.dtype, c.dtype"
   ]
  },
  {
   "cell_type": "code",
   "execution_count": 69,
   "metadata": {},
   "outputs": [
    {
     "data": {
      "text/plain": [
       "(array([[0., 0.]]), array([[[1., 1., 1., 1.],\n",
       "        [1., 1., 1., 1.],\n",
       "        [1., 1., 1., 1.]],\n",
       "\n",
       "       [[1., 1., 1., 1.],\n",
       "        [1., 1., 1., 1.],\n",
       "        [1., 1., 1., 1.]]]), array([[4607182418800017408, 4611686018427387904, 4613937818241073152],\n",
       "       [4616189618054758400, 4617315517961601024, 4618441417868443648]],\n",
       "      dtype=int64))"
      ]
     },
     "execution_count": 69,
     "metadata": {},
     "output_type": "execute_result"
    }
   ],
   "source": [
    "# np array 생성 2\n",
    "\n",
    "#0으로 가득찬 배열\n",
    "# shape을 전달, dtype을 전달(생략가능)\n",
    "a = np.zeros((1,2))\n",
    "\n",
    "# 1로 가득찬 배열을 생성\n",
    "b = np.ones((2,3,4), dtype=np.float64)\n",
    "\n",
    "# 아무것도 없는(?) 배열(해보면 이상한...)\n",
    "c = np.empty((2,3), dtype=\"int64\")\n",
    "a, b, c\n"
   ]
  },
  {
   "cell_type": "code",
   "execution_count": 70,
   "metadata": {},
   "outputs": [
    {
     "data": {
      "text/plain": [
       "array([], dtype=float64)"
      ]
     },
     "execution_count": 70,
     "metadata": {},
     "output_type": "execute_result"
    }
   ],
   "source": [
    "#np empty의 요상함???\n",
    "a = np.empty(0)\n",
    "a"
   ]
  },
  {
   "cell_type": "code",
   "execution_count": 81,
   "metadata": {},
   "outputs": [
    {
     "data": {
      "text/plain": [
       "(array([0, 1, 2, 3, 4, 5, 6, 7, 8, 9]), array([10, 15, 20, 25]), array([0. , 0.3, 0.6, 0.9, 1.2, 1.5, 1.8]), array([30, 25, 20, 15]))"
      ]
     },
     "execution_count": 81,
     "metadata": {},
     "output_type": "execute_result"
    }
   ],
   "source": [
    "# 숫자 시퀀스를 생성\n",
    "# 파이썬 리스트의 start:end:step 과 같음\n",
    "a = np.arange(10)\n",
    "b = np.arange(10, 30, 5)\n",
    "c = np.arange(0, 2, .3)\n",
    "d = np.arange(30, 10, -5)\n",
    "a,b,c,d"
   ]
  },
  {
   "cell_type": "code",
   "execution_count": 79,
   "metadata": {},
   "outputs": [
    {
     "data": {
      "text/plain": [
       "array([0. , 0.5, 1. , 1.5, 2. ])"
      ]
     },
     "execution_count": 79,
     "metadata": {},
     "output_type": "execute_result"
    }
   ],
   "source": [
    "#원하는 요소 수를 지정\n",
    "np.linspace(0, 2, 5)"
   ]
  },
  {
   "cell_type": "code",
   "execution_count": 85,
   "metadata": {},
   "outputs": [
    {
     "data": {
      "text/plain": [
       "array([[ 0.,  1.,  2.,  3.],\n",
       "       [ 4.,  5.,  6.,  7.],\n",
       "       [ 8.,  9., 10., 11.],\n",
       "       [12., 13., 14., 15.]])"
      ]
     },
     "execution_count": 85,
     "metadata": {},
     "output_type": "execute_result"
    }
   ],
   "source": [
    "# array shape을 수정\n",
    "a = np.arange(16).reshape(4,4)\n",
    "# np.arange(12).reshape(4,4) #12개의 요소를 4x4로 만들 수 없음으로 에러\n",
    "\n",
    "#타입을 변경\n",
    "a.astype(\"float64\")"
   ]
  },
  {
   "cell_type": "code",
   "execution_count": 93,
   "metadata": {},
   "outputs": [
    {
     "name": "stdout",
     "output_type": "stream",
     "text": [
      "[1, 2, 3, 4, 5, 6, 7, 8]\n",
      "[ 6  8 10 12]\n",
      "[-4 -4 -4 -4]\n",
      "[ 5 12 21 32]\n",
      "[0.2        0.33333333 0.42857143 0.5       ]\n",
      "[ 1  4  9 16]\n",
      "[ 0.84147098  0.90929743  0.14112001 -0.7568025 ]\n",
      "[False  True  True  True]\n"
     ]
    }
   ],
   "source": [
    "#산술 연산\n",
    "#파이썬의 리스트의 + 연산은 리스트의 병합\n",
    "print([1,2,3,4]+[5,6,7,8])\n",
    "\n",
    "#ndarray 연산\n",
    "a = np.array([1,2,3,4])\n",
    "b = np.array([5,6,7,8])\n",
    "print(a+b, a-b, a*b, a/b, sep=\"\\n\")\n",
    "print(a**2)\n",
    "print(np.sin(a))\n",
    "print(b>5)"
   ]
  },
  {
   "cell_type": "code",
   "execution_count": 103,
   "metadata": {},
   "outputs": [
    {
     "name": "stdout",
     "output_type": "stream",
     "text": [
      "[[5 4]\n",
      " [3 4]]\n",
      "[[2 2]\n",
      " [3 7]]\n",
      "[[5 4]\n",
      " [3 4]]\n",
      "[[2 2]\n",
      " [3 7]]\n",
      "[[5 4]\n",
      " [3 4]]\n",
      "[[2 0]\n",
      " [0 4]]\n"
     ]
    }
   ],
   "source": [
    "a = np.array([\n",
    "    [1,1],\n",
    "    [0,1]])\n",
    "b = np.array([\n",
    "    [2,0],\n",
    "    [3,4]])\n",
    "\n",
    "print(a.dot(b),b.dot(a),np.dot(a,b),np.dot(b,a), a@b, a*b,sep=\"\\n\")\n"
   ]
  },
  {
   "cell_type": "code",
   "execution_count": 114,
   "metadata": {},
   "outputs": [
    {
     "name": "stdout",
     "output_type": "stream",
     "text": [
      "[0 1 2 3 4]\n",
      "[ 1.          2.71828183  7.3890561  20.08553692 54.59815003]\n",
      "[0.         1.         1.41421356 1.73205081 2.        ]\n",
      "4 0\n",
      "1.4142135623730951\n",
      "10\n",
      "4\n",
      "2.0\n",
      "[0. 1. 2. 3. 4.]\n",
      "[  0.          57.29577951 114.59155903 171.88733854 229.18311805]\n"
     ]
    }
   ],
   "source": [
    "# 기타 연산함수\n",
    "a = np.arange(5)\n",
    "print(a)\n",
    "print(np.exp(a))\n",
    "print(np.sqrt(a))\n",
    "print(np.max(a), np.min(a))\n",
    "print(np.std(a))\n",
    "print(np.sum(a))\n",
    "print(np.argmax(a))\n",
    "print(np.average(a))\n",
    "print(np.half(a))"
   ]
  },
  {
   "cell_type": "code",
   "execution_count": null,
   "metadata": {},
   "outputs": [],
   "source": [
    "# 인덱싱과 슬라이싱\n",
    "a = np.arange(10)**3\n",
    "print(a)\n",
    "print(a[2])\n",
    "print(a[2:3])\n",
    "a[:6:2] =1000\n",
    "print(a)"
   ]
  },
  {
   "cell_type": "code",
   "execution_count": 163,
   "metadata": {},
   "outputs": [
    {
     "name": "stdout",
     "output_type": "stream",
     "text": [
      "[[[ 0  1  2  3]\n",
      "  [ 4  5  6  7]\n",
      "  [ 8  9 10 11]]\n",
      "\n",
      " [[12 13 14 15]\n",
      "  [16 17 18 19]\n",
      "  [20 21 22 23]]]\n",
      "[[[ 1  0  3  2]\n",
      "  [ 5  4  7  6]\n",
      "  [ 9  8 11 10]]\n",
      "\n",
      " [[13 12 15 14]\n",
      "  [17 16 19 18]\n",
      "  [21 20 23 22]]]\n"
     ]
    }
   ],
   "source": [
    "# 다차원 배열에서의 인덱싱과 슬라이싱\n",
    "a = np.arange(2*3*4).reshape(2,3,4)\n",
    "print(a)\n",
    "# print(a[:,2::-1,:])\n",
    "print(a[:,:,(1,0,3,2)])"
   ]
  },
  {
   "cell_type": "code",
   "execution_count": null,
   "metadata": {},
   "outputs": [],
   "source": [
    "c = np.array([[[  0,  1,  2],\n",
    "               [ 10, 12, 13]],\n",
    "              [[100, 101, 102],\n",
    "               [110, 112, 113]]])\n",
    "print(c.shape)\n",
    "c[1,...]"
   ]
  },
  {
   "cell_type": "code",
   "execution_count": 171,
   "metadata": {},
   "outputs": [
    {
     "name": "stdout",
     "output_type": "stream",
     "text": [
      "True\n",
      "2524930098064 2524930098064\n",
      "[[100   1   2   3]\n",
      " [100   5   6   7]\n",
      " [100   9  10  11]]\n",
      "[[100   1   2   3]\n",
      " [100   5   6   7]\n",
      " [100   9  10  11]]\n"
     ]
    }
   ],
   "source": [
    "# 복사는 항상 조심하자\n",
    "a = np.arange(12).reshape(3,4)\n",
    "b = a\n",
    "print(b is a)\n",
    "print(id(b), id(a))\n",
    "a[:,(0)]=100\n",
    "print(a,b,sep=\"\\n\")\n"
   ]
  },
  {
   "cell_type": "code",
   "execution_count": 173,
   "metadata": {},
   "outputs": [
    {
     "name": "stdout",
     "output_type": "stream",
     "text": [
      "[100, 2, 3, 4] [100, 2, 3, 4]\n",
      "[100, 2, 3, 4] [1, 2, 3, 4]\n"
     ]
    }
   ],
   "source": [
    "#파이썬 리스트의 깊은 복사\n",
    "l = [1,2,3,4] \n",
    "l2 = l\n",
    "l[0] = 100\n",
    "print(l, l2)\n",
    "l = [1,2,3,4] \n",
    "l2 = l[:]\n",
    "l[0] = 100\n",
    "print(l, l2)"
   ]
  },
  {
   "cell_type": "code",
   "execution_count": 178,
   "metadata": {},
   "outputs": [
    {
     "name": "stdout",
     "output_type": "stream",
     "text": [
      "[[100 100]\n",
      " [100 100]\n",
      " [100 100]] \n",
      " [[  0 100 100   3]\n",
      " [  4 100 100   7]\n",
      " [  8 100 100  11]]\n",
      "[[100 100]\n",
      " [100 100]\n",
      " [100 100]] \n",
      " [[ 0  1  2  3]\n",
      " [ 4  5  6  7]\n",
      " [ 8  9 10 11]]\n"
     ]
    }
   ],
   "source": [
    "# 넘파이에서는 슬라이싱 된 배열도 결국은 얕은 복사\n",
    "a = np.arange(12).reshape(3,4)\n",
    "b = a[:,1:3]\n",
    "b[:] = 100\n",
    "print(b,\"\\n\", a)\n",
    "a = np.arange(12).reshape(3,4)\n",
    "b = a[:,1:3].copy()\n",
    "b[:] = 100\n",
    "print(b,\"\\n\", a)"
   ]
  },
  {
   "cell_type": "code",
   "execution_count": 115,
   "metadata": {},
   "outputs": [],
   "source": [
    "#파일로 저장\n",
    "a = np.array([1,2,3,4,5])\n",
    "np.save(\"test\",a)\n",
    "#test.npy파일이 저장 (이진파일이라 text로 읽을 수 없음)"
   ]
  },
  {
   "cell_type": "code",
   "execution_count": 118,
   "metadata": {},
   "outputs": [
    {
     "name": "stdout",
     "output_type": "stream",
     "text": [
      "[1 2 3 4 5]\n"
     ]
    }
   ],
   "source": [
    "#저장할 때에는 확장자를 생략할 수 있지만\n",
    "#로드에서는 확장자를 붙여야만 한다.\n",
    "a = np.load(\"test.npy\")\n",
    "print(a)"
   ]
  },
  {
   "cell_type": "code",
   "execution_count": 123,
   "metadata": {},
   "outputs": [],
   "source": [
    "#text 파일을 이용\n",
    "a = np.array([[1,2,3,4],[5,6,7,8]])\n",
    "np.savetxt(\"test.txt\", a)"
   ]
  },
  {
   "cell_type": "code",
   "execution_count": 125,
   "metadata": {},
   "outputs": [
    {
     "data": {
      "text/plain": [
       "array([[1., 2., 3., 4.],\n",
       "       [5., 6., 7., 8.]])"
      ]
     },
     "execution_count": 125,
     "metadata": {},
     "output_type": "execute_result"
    }
   ],
   "source": [
    "#text 파일 불러오기\n",
    "a = np.loadtxt(\"test.txt\")\n",
    "a"
   ]
  },
  {
   "cell_type": "code",
   "execution_count": 126,
   "metadata": {},
   "outputs": [],
   "source": [
    "# csv 파일 다루기\n",
    "# csv는 별다른 것 없이 delimiter를 지정\n",
    "np.savetxt(\"text.csv\",a,delimiter=\",\")"
   ]
  },
  {
   "cell_type": "code",
   "execution_count": 127,
   "metadata": {},
   "outputs": [
    {
     "data": {
      "text/plain": [
       "array([[1., 2., 3., 4.],\n",
       "       [5., 6., 7., 8.]])"
      ]
     },
     "execution_count": 127,
     "metadata": {},
     "output_type": "execute_result"
    }
   ],
   "source": [
    "np.loadtxt(\"text.csv\",delimiter=\",\")"
   ]
  }
 ],
 "metadata": {
  "kernelspec": {
   "display_name": "Python 3.9.13 ('ml_gym': venv)",
   "language": "python",
   "name": "python3"
  },
  "language_info": {
   "codemirror_mode": {
    "name": "ipython",
    "version": 3
   },
   "file_extension": ".py",
   "mimetype": "text/x-python",
   "name": "python",
   "nbconvert_exporter": "python",
   "pygments_lexer": "ipython3",
   "version": "3.9.13"
  },
  "orig_nbformat": 4,
  "vscode": {
   "interpreter": {
    "hash": "a6ac081869b530f457619791f617d77cf805282e7db014faab8a21ecdc256c9d"
   }
  }
 },
 "nbformat": 4,
 "nbformat_minor": 2
}
