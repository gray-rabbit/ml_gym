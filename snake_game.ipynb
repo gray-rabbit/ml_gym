{
 "cells": [
  {
   "cell_type": "code",
   "execution_count": 1,
   "metadata": {},
   "outputs": [
    {
     "name": "stdout",
     "output_type": "stream",
     "text": [
      "pygame 2.1.2 (SDL 2.0.18, Python 3.9.13)\n",
      "Hello from the pygame community. https://www.pygame.org/contribute.html\n"
     ]
    }
   ],
   "source": [
    "import pygame\n",
    "from enum import Enum\n",
    "import random "
   ]
  },
  {
   "cell_type": "code",
   "execution_count": 2,
   "metadata": {},
   "outputs": [
    {
     "data": {
      "text/plain": [
       "(5, 0)"
      ]
     },
     "execution_count": 2,
     "metadata": {},
     "output_type": "execute_result"
    }
   ],
   "source": [
    "pygame.init()"
   ]
  },
  {
   "cell_type": "code",
   "execution_count": 3,
   "metadata": {},
   "outputs": [],
   "source": [
    "class Direction(Enum):\n",
    "    RIGHT = 1\n",
    "    LEFT = 2\n",
    "    UP = 3\n",
    "    DOWN = 4"
   ]
  },
  {
   "cell_type": "code",
   "execution_count": 4,
   "metadata": {},
   "outputs": [],
   "source": [
    "WHITE = (255, 255, 255)\n",
    "RED = (200,0,0)\n",
    "BLUE1 = (0, 0, 255)\n",
    "BLUE2 = (0, 100, 255)\n",
    "BLACK = (0,0,0)\n",
    "\n",
    "BLOCK_SIZE = 20\n",
    "SPEED = 20"
   ]
  },
  {
   "cell_type": "code",
   "execution_count": 18,
   "metadata": {},
   "outputs": [],
   "source": [
    "class SnakeGame:\n",
    "    def __init__(self, w=640, h=480, size=40):\n",
    "        self.w = w\n",
    "        self.h = h\n",
    "        self.display = pygame.display.set_mode((self.w, self.h))\n",
    "        self.direction = Direction.RIGHT\n",
    "        self.clock = pygame.time.Clock()\n",
    "        self.clock.tick(200)\n",
    "        self.head = (self.w//size//2, self.h//size//2)\n",
    "        self.snake = [self.head]\n",
    "        self.size = size\n",
    "        self._place_food()\n",
    "        print(self.food)\n",
    "\n",
    "    def _place_food(self):\n",
    "        while True:\n",
    "            x = random.randint(0, (self.w//self.size)-1)\n",
    "            y = random.randint(0, (self.h//self.size)-1)\n",
    "            if (x,y) not in self.snake:\n",
    "                self.food = (x, y)\n",
    "                break\n",
    "        print(self.food)\n",
    "\n",
    "    def _update_ui(self):\n",
    "        self.display.fill(BLACK)\n",
    "        for x in range(self.w//self.size):\n",
    "            for y in range(self.h//self.size):\n",
    "                pygame.draw.rect(self.display, (23, 23, 23), pygame.Rect(\n",
    "                    x*self.size, y*self.size, self.size, self.size), 1)\n",
    "        for i, (w, h) in enumerate(self.snake):\n",
    "            if i == 0:\n",
    "                pygame.draw.rect(self.display, BLUE1, pygame.Rect(\n",
    "                    w*self.size, h*self.size, self.size, self.size))\n",
    "                pygame.draw.rect(self.display, BLUE1, pygame.Rect(\n",
    "                    w*self.size, h*self.size, self.size, self.size), 1)\n",
    "            else:\n",
    "                pygame.draw.rect(self.display, BLUE2, pygame.Rect(\n",
    "                    w*self.size, h*self.size, self.size, self.size))\n",
    "                pygame.draw.rect(self.display, BLUE2, pygame.Rect(\n",
    "                    w*self.size, h*self.size, self.size, self.size), 1)\n",
    "            pass\n",
    "\n",
    "        pygame.draw.rect(self.display, RED, pygame.Rect(\n",
    "            self.food[0]*self.size, self.food[1]*self.size, self.size, self.size))\n",
    "        pygame.display.flip()\n",
    "\n",
    "    def step(self, action=-1):\n",
    "\n",
    "        for event in pygame.event.get():\n",
    "            if event.type == pygame.QUIT:\n",
    "                pygame.quit()\n",
    "            if event.type == pygame.KEYDOWN:\n",
    "                if event.key == pygame.K_LEFT:\n",
    "                    self.direction = Direction.LEFT\n",
    "                elif event.key == pygame.K_RIGHT:\n",
    "                    self.direction = Direction.RIGHT\n",
    "                elif event.key == pygame.K_UP:\n",
    "                    self.direction = Direction.UP\n",
    "                elif event.key == pygame.K_DOWN:\n",
    "                    self.direction = Direction.DOWN\n",
    "                self._move(self.direction)\n",
    "        self.clock.tick(10)\n",
    "        # ui 업데이트\n",
    "        self._update_ui()\n",
    "\n",
    "    def _move(self, direcion):\n",
    "        x, y = 0, 0\n",
    "        if direcion == Direction.RIGHT:\n",
    "            x = 1\n",
    "        elif direcion == Direction.LEFT:\n",
    "            x = -1\n",
    "        elif direcion == Direction.UP:\n",
    "            y = -1\n",
    "        elif direcion == Direction.DOWN:\n",
    "            y = 1\n",
    "        last = self.snake[-1]\n",
    "        head = self.snake[0]\n",
    "\n",
    "        self.snake.insert(0, (head[0]+x, head[1]+y))\n",
    "\n",
    "        is_eat_apple = self._hit_apple()\n",
    "        is_hit_obstacle=False\n",
    "        is_hit_obstacle = self._hit_obstacles()\n",
    "\n",
    "        #장애물이랑 부딪치면?\n",
    "        if is_hit_obstacle:\n",
    "            self.game_over=True\n",
    "            pygame.quit()\n",
    "        \n",
    "        #사과를 먹으면?\n",
    "        if is_eat_apple:\n",
    "            self._place_food()\n",
    "        else:\n",
    "            self.snake.pop()\n",
    "\n",
    "    def _hit_obstacles(self):\n",
    "        if self.snake[0][0] < 0\\\n",
    "            or self.snake[0][0] > (self.w//self.size-1)\\\n",
    "            or self.snake[0][1]<0\\\n",
    "            or self.snake[0][1]> (self.h//self.size-1)\\\n",
    "            or self.snake[0] in self.snake[1:]:\n",
    "            return True\n",
    "        return False\n",
    "\n",
    "\n",
    "    def _hit_apple(self):\n",
    "        if (self.food[0], self.food[1]) == self.snake[0]:\n",
    "            return True\n",
    "        else:\n",
    "            False\n"
   ]
  },
  {
   "cell_type": "code",
   "execution_count": 21,
   "metadata": {},
   "outputs": [
    {
     "name": "stdout",
     "output_type": "stream",
     "text": [
      "(11, 2)\n",
      "(11, 2)\n"
     ]
    },
    {
     "ename": "error",
     "evalue": "display Surface quit",
     "output_type": "error",
     "traceback": [
      "\u001b[1;31m---------------------------------------------------------------------------\u001b[0m",
      "\u001b[1;31merror\u001b[0m                                     Traceback (most recent call last)",
      "\u001b[1;32mf:\\python_workspace\\ml_gym\\snake_game.ipynb 셀 6\u001b[0m in \u001b[0;36m<cell line: 4>\u001b[1;34m()\u001b[0m\n\u001b[0;32m      <a href='vscode-notebook-cell:/f%3A/python_workspace/ml_gym/snake_game.ipynb#ch0000005?line=1'>2</a>\u001b[0m a\u001b[39m.\u001b[39mstep()\n\u001b[0;32m      <a href='vscode-notebook-cell:/f%3A/python_workspace/ml_gym/snake_game.ipynb#ch0000005?line=2'>3</a>\u001b[0m \u001b[39mwhile\u001b[39;00m \u001b[39mTrue\u001b[39;00m:\n\u001b[1;32m----> <a href='vscode-notebook-cell:/f%3A/python_workspace/ml_gym/snake_game.ipynb#ch0000005?line=3'>4</a>\u001b[0m     a\u001b[39m.\u001b[39;49mstep()\n",
      "\u001b[1;32mf:\\python_workspace\\ml_gym\\snake_game.ipynb 셀 6\u001b[0m in \u001b[0;36mSnakeGame.step\u001b[1;34m(self, action)\u001b[0m\n\u001b[0;32m     <a href='vscode-notebook-cell:/f%3A/python_workspace/ml_gym/snake_game.ipynb#ch0000005?line=61'>62</a>\u001b[0m \u001b[39mself\u001b[39m\u001b[39m.\u001b[39mclock\u001b[39m.\u001b[39mtick(\u001b[39m10\u001b[39m)\n\u001b[0;32m     <a href='vscode-notebook-cell:/f%3A/python_workspace/ml_gym/snake_game.ipynb#ch0000005?line=62'>63</a>\u001b[0m \u001b[39m# ui 업데이트\u001b[39;00m\n\u001b[1;32m---> <a href='vscode-notebook-cell:/f%3A/python_workspace/ml_gym/snake_game.ipynb#ch0000005?line=63'>64</a>\u001b[0m \u001b[39mself\u001b[39;49m\u001b[39m.\u001b[39;49m_update_ui()\n",
      "\u001b[1;32mf:\\python_workspace\\ml_gym\\snake_game.ipynb 셀 6\u001b[0m in \u001b[0;36mSnakeGame._update_ui\u001b[1;34m(self)\u001b[0m\n\u001b[0;32m     <a href='vscode-notebook-cell:/f%3A/python_workspace/ml_gym/snake_game.ipynb#ch0000005?line=23'>24</a>\u001b[0m \u001b[39mdef\u001b[39;00m \u001b[39m_update_ui\u001b[39m(\u001b[39mself\u001b[39m):\n\u001b[1;32m---> <a href='vscode-notebook-cell:/f%3A/python_workspace/ml_gym/snake_game.ipynb#ch0000005?line=24'>25</a>\u001b[0m     \u001b[39mself\u001b[39;49m\u001b[39m.\u001b[39;49mdisplay\u001b[39m.\u001b[39;49mfill(BLACK)\n\u001b[0;32m     <a href='vscode-notebook-cell:/f%3A/python_workspace/ml_gym/snake_game.ipynb#ch0000005?line=25'>26</a>\u001b[0m     \u001b[39mfor\u001b[39;00m x \u001b[39min\u001b[39;00m \u001b[39mrange\u001b[39m(\u001b[39mself\u001b[39m\u001b[39m.\u001b[39mw\u001b[39m/\u001b[39m\u001b[39m/\u001b[39m\u001b[39mself\u001b[39m\u001b[39m.\u001b[39msize):\n\u001b[0;32m     <a href='vscode-notebook-cell:/f%3A/python_workspace/ml_gym/snake_game.ipynb#ch0000005?line=26'>27</a>\u001b[0m         \u001b[39mfor\u001b[39;00m y \u001b[39min\u001b[39;00m \u001b[39mrange\u001b[39m(\u001b[39mself\u001b[39m\u001b[39m.\u001b[39mh\u001b[39m/\u001b[39m\u001b[39m/\u001b[39m\u001b[39mself\u001b[39m\u001b[39m.\u001b[39msize):\n",
      "\u001b[1;31merror\u001b[0m: display Surface quit"
     ]
    }
   ],
   "source": [
    "\n",
    "a=SnakeGame()\n",
    "a.step()\n",
    "while True:\n",
    "    a.step()\n"
   ]
  },
  {
   "cell_type": "code",
   "execution_count": 8,
   "metadata": {},
   "outputs": [],
   "source": [
    "pygame.quit()"
   ]
  },
  {
   "cell_type": "code",
   "execution_count": 72,
   "metadata": {},
   "outputs": [
    {
     "data": {
      "text/plain": [
       "4"
      ]
     },
     "execution_count": 72,
     "metadata": {},
     "output_type": "execute_result"
    }
   ],
   "source": [
    "random.randint(0,10)"
   ]
  },
  {
   "cell_type": "code",
   "execution_count": null,
   "metadata": {},
   "outputs": [],
   "source": []
  }
 ],
 "metadata": {
  "kernelspec": {
   "display_name": "Python 3.9.13 ('ml_gym': venv)",
   "language": "python",
   "name": "python3"
  },
  "language_info": {
   "codemirror_mode": {
    "name": "ipython",
    "version": 3
   },
   "file_extension": ".py",
   "mimetype": "text/x-python",
   "name": "python",
   "nbconvert_exporter": "python",
   "pygments_lexer": "ipython3",
   "version": "3.9.13"
  },
  "orig_nbformat": 4,
  "vscode": {
   "interpreter": {
    "hash": "a6ac081869b530f457619791f617d77cf805282e7db014faab8a21ecdc256c9d"
   }
  }
 },
 "nbformat": 4,
 "nbformat_minor": 2
}
